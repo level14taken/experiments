{
 "cells": [
  {
   "cell_type": "code",
   "execution_count": 1,
   "id": "45671836-4e87-4823-8253-89e52a0bfe25",
   "metadata": {},
   "outputs": [],
   "source": [
    "import pandas as pd\n",
    "import numpy as np"
   ]
  },
  {
   "cell_type": "code",
   "execution_count": 2,
   "id": "415b2e2c-f370-41ca-a389-d577cfd2424a",
   "metadata": {},
   "outputs": [],
   "source": [
    "epr= pd.read_csv('Electric_Production.csv')"
   ]
  },
  {
   "cell_type": "code",
   "execution_count": 3,
   "id": "470ab285-1071-429f-835d-fbf40b3689b0",
   "metadata": {},
   "outputs": [
    {
     "data": {
      "text/html": [
       "<div>\n",
       "<style scoped>\n",
       "    .dataframe tbody tr th:only-of-type {\n",
       "        vertical-align: middle;\n",
       "    }\n",
       "\n",
       "    .dataframe tbody tr th {\n",
       "        vertical-align: top;\n",
       "    }\n",
       "\n",
       "    .dataframe thead th {\n",
       "        text-align: right;\n",
       "    }\n",
       "</style>\n",
       "<table border=\"1\" class=\"dataframe\">\n",
       "  <thead>\n",
       "    <tr style=\"text-align: right;\">\n",
       "      <th></th>\n",
       "      <th>DATE</th>\n",
       "      <th>IPG2211A2N</th>\n",
       "    </tr>\n",
       "  </thead>\n",
       "  <tbody>\n",
       "    <tr>\n",
       "      <th>0</th>\n",
       "      <td>1/1/1985</td>\n",
       "      <td>72.5052</td>\n",
       "    </tr>\n",
       "    <tr>\n",
       "      <th>1</th>\n",
       "      <td>2/1/1985</td>\n",
       "      <td>70.6720</td>\n",
       "    </tr>\n",
       "    <tr>\n",
       "      <th>2</th>\n",
       "      <td>3/1/1985</td>\n",
       "      <td>62.4502</td>\n",
       "    </tr>\n",
       "    <tr>\n",
       "      <th>3</th>\n",
       "      <td>4/1/1985</td>\n",
       "      <td>57.4714</td>\n",
       "    </tr>\n",
       "    <tr>\n",
       "      <th>4</th>\n",
       "      <td>5/1/1985</td>\n",
       "      <td>55.3151</td>\n",
       "    </tr>\n",
       "  </tbody>\n",
       "</table>\n",
       "</div>"
      ],
      "text/plain": [
       "       DATE  IPG2211A2N\n",
       "0  1/1/1985     72.5052\n",
       "1  2/1/1985     70.6720\n",
       "2  3/1/1985     62.4502\n",
       "3  4/1/1985     57.4714\n",
       "4  5/1/1985     55.3151"
      ]
     },
     "execution_count": 3,
     "metadata": {},
     "output_type": "execute_result"
    }
   ],
   "source": [
    "epr.head()"
   ]
  },
  {
   "cell_type": "code",
   "execution_count": 4,
   "id": "d81f2751-dbea-43f7-be64-282c07c62381",
   "metadata": {},
   "outputs": [
    {
     "data": {
      "text/html": [
       "<div>\n",
       "<style scoped>\n",
       "    .dataframe tbody tr th:only-of-type {\n",
       "        vertical-align: middle;\n",
       "    }\n",
       "\n",
       "    .dataframe tbody tr th {\n",
       "        vertical-align: top;\n",
       "    }\n",
       "\n",
       "    .dataframe thead th {\n",
       "        text-align: right;\n",
       "    }\n",
       "</style>\n",
       "<table border=\"1\" class=\"dataframe\">\n",
       "  <thead>\n",
       "    <tr style=\"text-align: right;\">\n",
       "      <th></th>\n",
       "      <th>IPG2211A2N</th>\n",
       "    </tr>\n",
       "  </thead>\n",
       "  <tbody>\n",
       "    <tr>\n",
       "      <th>count</th>\n",
       "      <td>397.000000</td>\n",
       "    </tr>\n",
       "    <tr>\n",
       "      <th>mean</th>\n",
       "      <td>88.847218</td>\n",
       "    </tr>\n",
       "    <tr>\n",
       "      <th>std</th>\n",
       "      <td>15.387834</td>\n",
       "    </tr>\n",
       "    <tr>\n",
       "      <th>min</th>\n",
       "      <td>55.315100</td>\n",
       "    </tr>\n",
       "    <tr>\n",
       "      <th>25%</th>\n",
       "      <td>77.105200</td>\n",
       "    </tr>\n",
       "    <tr>\n",
       "      <th>50%</th>\n",
       "      <td>89.779500</td>\n",
       "    </tr>\n",
       "    <tr>\n",
       "      <th>75%</th>\n",
       "      <td>100.524400</td>\n",
       "    </tr>\n",
       "    <tr>\n",
       "      <th>max</th>\n",
       "      <td>129.404800</td>\n",
       "    </tr>\n",
       "  </tbody>\n",
       "</table>\n",
       "</div>"
      ],
      "text/plain": [
       "       IPG2211A2N\n",
       "count  397.000000\n",
       "mean    88.847218\n",
       "std     15.387834\n",
       "min     55.315100\n",
       "25%     77.105200\n",
       "50%     89.779500\n",
       "75%    100.524400\n",
       "max    129.404800"
      ]
     },
     "execution_count": 4,
     "metadata": {},
     "output_type": "execute_result"
    }
   ],
   "source": [
    "epr.describe()"
   ]
  },
  {
   "cell_type": "code",
   "execution_count": 6,
   "id": "63333243-6804-4fda-a94e-319df9f4fb9b",
   "metadata": {},
   "outputs": [
    {
     "data": {
      "text/plain": [
       "0       72.5052\n",
       "1       70.6720\n",
       "2       62.4502\n",
       "3       57.4714\n",
       "4       55.3151\n",
       "         ...   \n",
       "392     98.6154\n",
       "393     93.6137\n",
       "394     97.3359\n",
       "395    114.7212\n",
       "396    129.4048\n",
       "Name: IPG2211A2N, Length: 397, dtype: float64"
      ]
     },
     "execution_count": 6,
     "metadata": {},
     "output_type": "execute_result"
    }
   ],
   "source": [
    "epr.IPG2211A2N"
   ]
  },
  {
   "cell_type": "code",
   "execution_count": 46,
   "id": "9a7c317c-bd15-4367-b6ca-7e40fff553c8",
   "metadata": {},
   "outputs": [],
   "source": [
    "train,val= epr.values[:,1][:300],epr.values[:,1][300:]"
   ]
  },
  {
   "cell_type": "code",
   "execution_count": 47,
   "id": "3baea405-4295-4369-8d6a-c1cf8ba2ebc5",
   "metadata": {},
   "outputs": [],
   "source": [
    "import torch\n",
    "import torch.nn as nn\n",
    "import torch.functional as F"
   ]
  },
  {
   "cell_type": "code",
   "execution_count": 48,
   "id": "f549c308-b555-469d-a8f1-5575eecc17b3",
   "metadata": {},
   "outputs": [],
   "source": [
    "class TSeries(nn.Module):\n",
    "    def __init__(self,):\n",
    "        super().__init__()\n",
    "        self.model= nn.LSTM(1,1)\n",
    "    def forward(self,x):\n",
    "        return self.model(x)"
   ]
  },
  {
   "cell_type": "code",
   "execution_count": 49,
   "id": "839de9e9-70c7-4826-b08a-1e8980fe4fe6",
   "metadata": {},
   "outputs": [],
   "source": [
    "loss= nn.MSELoss()"
   ]
  },
  {
   "cell_type": "code",
   "execution_count": 50,
   "id": "ff709f12-538a-489d-9c86-88f294233ace",
   "metadata": {},
   "outputs": [
    {
     "data": {
      "text/plain": [
       "(np.float64(84.39435099999999), np.float64(14.148404779756353))"
      ]
     },
     "execution_count": 50,
     "metadata": {},
     "output_type": "execute_result"
    }
   ],
   "source": [
    "train.mean(),train.std()"
   ]
  },
  {
   "cell_type": "code",
   "execution_count": 51,
   "id": "ec156b5a-870d-49d1-bc47-d57366b53621",
   "metadata": {},
   "outputs": [],
   "source": [
    "train= (train-84.3935) /14.1484\n",
    "val= (val-84.3935) /14.1484"
   ]
  },
  {
   "cell_type": "code",
   "execution_count": 75,
   "id": "0b843cfb-6096-4b1c-8ead-51107f8eb7f9",
   "metadata": {},
   "outputs": [],
   "source": [
    "def create_dataset(data):\n",
    "    return [[data[:i],data[i]] for i in range(1,len(data))]"
   ]
  },
  {
   "cell_type": "code",
   "execution_count": 60,
   "id": "c7f92f07-61f8-4ef1-babf-1b8613d09cda",
   "metadata": {},
   "outputs": [],
   "source": [
    "from torch.utils.data import DataLoader"
   ]
  },
  {
   "cell_type": "code",
   "execution_count": 76,
   "id": "1009c5c3-9e2b-4dc1-91d6-d39bd0293934",
   "metadata": {},
   "outputs": [],
   "source": [
    "trainloader= DataLoader(create_dataset(train.astype(np.float32)),batch_size=1)\n",
    "valloader= DataLoader(create_dataset(val.astype(np.float32)),batch_size=1)"
   ]
  },
  {
   "cell_type": "code",
   "execution_count": 72,
   "id": "6bce9f83-c722-4c55-8d17-0a258fa362e3",
   "metadata": {},
   "outputs": [],
   "source": [
    "from torch.optim import Adam"
   ]
  },
  {
   "cell_type": "code",
   "execution_count": 120,
   "id": "9dec1e62-6165-4f33-90f5-b073f882f324",
   "metadata": {},
   "outputs": [],
   "source": [
    "model= TSeries2()\n",
    "optimizer= Adam(model.parameters(),lr=3e-4)"
   ]
  },
  {
   "cell_type": "code",
   "execution_count": 121,
   "id": "24057008-d17f-4b92-9351-30b8f209dce5",
   "metadata": {},
   "outputs": [
    {
     "name": "stdout",
     "output_type": "stream",
     "text": [
      "Epoch 0 Loss 0.934\n",
      "Val Loss 1.550\n",
      "Epoch 1 Loss 0.691\n",
      "Val Loss 0.877\n",
      "Epoch 2 Loss 0.465\n",
      "Val Loss 0.667\n",
      "Epoch 3 Loss 0.390\n",
      "Val Loss 0.617\n",
      "Epoch 4 Loss 0.368\n",
      "Val Loss 0.598\n",
      "Epoch 5 Loss 0.352\n",
      "Val Loss 0.585\n",
      "Epoch 6 Loss 0.339\n",
      "Val Loss 0.574\n",
      "Epoch 7 Loss 0.328\n",
      "Val Loss 0.564\n",
      "Epoch 8 Loss 0.319\n",
      "Val Loss 0.555\n",
      "Epoch 9 Loss 0.312\n",
      "Val Loss 0.547\n",
      "Epoch 10 Loss 0.306\n",
      "Val Loss 0.541\n",
      "Epoch 11 Loss 0.301\n",
      "Val Loss 0.535\n",
      "Epoch 12 Loss 0.296\n",
      "Val Loss 0.530\n",
      "Epoch 13 Loss 0.292\n",
      "Val Loss 0.525\n",
      "Epoch 14 Loss 0.288\n",
      "Val Loss 0.520\n",
      "Epoch 15 Loss 0.284\n",
      "Val Loss 0.516\n",
      "Epoch 16 Loss 0.280\n",
      "Val Loss 0.511\n",
      "Epoch 17 Loss 0.276\n",
      "Val Loss 0.507\n",
      "Epoch 18 Loss 0.273\n",
      "Val Loss 0.502\n",
      "Epoch 19 Loss 0.269\n",
      "Val Loss 0.497\n",
      "Epoch 20 Loss 0.265\n",
      "Val Loss 0.492\n",
      "Epoch 21 Loss 0.262\n",
      "Val Loss 0.487\n",
      "Epoch 22 Loss 0.258\n",
      "Val Loss 0.481\n",
      "Epoch 23 Loss 0.254\n",
      "Val Loss 0.475\n",
      "Epoch 24 Loss 0.250\n",
      "Val Loss 0.469\n",
      "Epoch 25 Loss 0.246\n",
      "Val Loss 0.462\n",
      "Epoch 26 Loss 0.242\n",
      "Val Loss 0.455\n",
      "Epoch 27 Loss 0.238\n",
      "Val Loss 0.448\n",
      "Epoch 28 Loss 0.234\n",
      "Val Loss 0.441\n",
      "Epoch 29 Loss 0.229\n",
      "Val Loss 0.433\n",
      "Epoch 30 Loss 0.224\n",
      "Val Loss 0.425\n",
      "Epoch 31 Loss 0.220\n",
      "Val Loss 0.417\n",
      "Epoch 32 Loss 0.215\n",
      "Val Loss 0.409\n",
      "Epoch 33 Loss 0.210\n",
      "Val Loss 0.400\n",
      "Epoch 34 Loss 0.205\n",
      "Val Loss 0.392\n",
      "Epoch 35 Loss 0.200\n",
      "Val Loss 0.384\n",
      "Epoch 36 Loss 0.194\n",
      "Val Loss 0.376\n",
      "Epoch 37 Loss 0.189\n",
      "Val Loss 0.368\n",
      "Epoch 38 Loss 0.184\n",
      "Val Loss 0.360\n",
      "Epoch 39 Loss 0.178\n",
      "Val Loss 0.352\n",
      "Epoch 40 Loss 0.173\n",
      "Val Loss 0.344\n",
      "Epoch 41 Loss 0.168\n",
      "Val Loss 0.336\n",
      "Epoch 42 Loss 0.162\n",
      "Val Loss 0.328\n",
      "Epoch 43 Loss 0.157\n",
      "Val Loss 0.320\n",
      "Epoch 44 Loss 0.152\n",
      "Val Loss 0.312\n",
      "Epoch 45 Loss 0.147\n",
      "Val Loss 0.304\n",
      "Epoch 46 Loss 0.142\n",
      "Val Loss 0.296\n",
      "Epoch 47 Loss 0.136\n",
      "Val Loss 0.288\n",
      "Epoch 48 Loss 0.131\n",
      "Val Loss 0.280\n",
      "Epoch 49 Loss 0.126\n",
      "Val Loss 0.272\n",
      "Epoch 50 Loss 0.122\n",
      "Val Loss 0.264\n",
      "Epoch 51 Loss 0.117\n",
      "Val Loss 0.256\n",
      "Epoch 52 Loss 0.112\n",
      "Val Loss 0.248\n",
      "Epoch 53 Loss 0.107\n",
      "Val Loss 0.240\n",
      "Epoch 54 Loss 0.103\n",
      "Val Loss 0.232\n",
      "Epoch 55 Loss 0.098\n",
      "Val Loss 0.224\n",
      "Epoch 56 Loss 0.094\n",
      "Val Loss 0.217\n",
      "Epoch 57 Loss 0.090\n",
      "Val Loss 0.209\n",
      "Epoch 58 Loss 0.086\n",
      "Val Loss 0.202\n",
      "Epoch 59 Loss 0.082\n",
      "Val Loss 0.196\n",
      "Epoch 60 Loss 0.079\n",
      "Val Loss 0.190\n",
      "Epoch 61 Loss 0.076\n",
      "Val Loss 0.184\n",
      "Epoch 62 Loss 0.073\n",
      "Val Loss 0.179\n",
      "Epoch 63 Loss 0.071\n",
      "Val Loss 0.174\n",
      "Epoch 64 Loss 0.068\n",
      "Val Loss 0.170\n",
      "Epoch 65 Loss 0.066\n",
      "Val Loss 0.166\n",
      "Epoch 66 Loss 0.065\n",
      "Val Loss 0.163\n",
      "Epoch 67 Loss 0.063\n",
      "Val Loss 0.160\n",
      "Epoch 68 Loss 0.062\n",
      "Val Loss 0.157\n",
      "Epoch 69 Loss 0.061\n",
      "Val Loss 0.155\n",
      "Epoch 70 Loss 0.060\n",
      "Val Loss 0.152\n",
      "Epoch 71 Loss 0.059\n",
      "Val Loss 0.150\n",
      "Epoch 72 Loss 0.058\n",
      "Val Loss 0.149\n",
      "Epoch 73 Loss 0.057\n",
      "Val Loss 0.147\n",
      "Epoch 74 Loss 0.056\n",
      "Val Loss 0.146\n",
      "Epoch 75 Loss 0.055\n",
      "Val Loss 0.145\n",
      "Epoch 76 Loss 0.055\n",
      "Val Loss 0.144\n",
      "Epoch 77 Loss 0.054\n",
      "Val Loss 0.143\n",
      "Epoch 78 Loss 0.054\n",
      "Val Loss 0.143\n",
      "Epoch 79 Loss 0.053\n",
      "Val Loss 0.142\n",
      "Epoch 80 Loss 0.053\n",
      "Val Loss 0.142\n",
      "Epoch 81 Loss 0.052\n",
      "Val Loss 0.141\n",
      "Epoch 82 Loss 0.052\n",
      "Val Loss 0.141\n",
      "Epoch 83 Loss 0.051\n",
      "Val Loss 0.140\n",
      "Epoch 84 Loss 0.051\n",
      "Val Loss 0.140\n",
      "Epoch 85 Loss 0.050\n",
      "Val Loss 0.140\n",
      "Epoch 86 Loss 0.050\n",
      "Val Loss 0.140\n",
      "Epoch 87 Loss 0.050\n",
      "Val Loss 0.139\n",
      "Epoch 88 Loss 0.049\n",
      "Val Loss 0.139\n",
      "Epoch 89 Loss 0.049\n",
      "Val Loss 0.139\n",
      "Epoch 90 Loss 0.049\n",
      "Val Loss 0.139\n",
      "Epoch 91 Loss 0.048\n",
      "Val Loss 0.139\n",
      "Epoch 92 Loss 0.048\n",
      "Val Loss 0.138\n",
      "Epoch 93 Loss 0.048\n",
      "Val Loss 0.138\n",
      "Epoch 94 Loss 0.047\n",
      "Val Loss 0.138\n",
      "Epoch 95 Loss 0.047\n",
      "Val Loss 0.138\n",
      "Epoch 96 Loss 0.047\n",
      "Val Loss 0.137\n",
      "Epoch 97 Loss 0.046\n",
      "Val Loss 0.137\n",
      "Epoch 98 Loss 0.046\n",
      "Val Loss 0.137\n",
      "Epoch 99 Loss 0.046\n",
      "Val Loss 0.137\n"
     ]
    }
   ],
   "source": [
    "for e in range(100):\n",
    "    model.train()\n",
    "    L=0\n",
    "    for i,t in trainloader:\n",
    "        optimizer.zero_grad()\n",
    "        o= model(i.view(-1,1).float()) \n",
    "        l= loss(o,t.float())\n",
    "        #print(o.shape)\n",
    "        l.backward()\n",
    "        optimizer.step()\n",
    "        L+= l.data\n",
    "    print(f'Epoch {e} Loss {L.data/299:.3f}')        \n",
    "    model.eval()\n",
    "    L=0\n",
    "    for i,t in valloader:\n",
    "        o= model(i.view(-1,1).float()) \n",
    "        l= loss(o,t.float())\n",
    "        L+= l.data\n",
    "    print(f'Val Loss {L.data/96:.3f}')        "
   ]
  },
  {
   "cell_type": "code",
   "execution_count": 87,
   "id": "071d7701-3e9e-4a1d-ab17-ecd7d53c2f95",
   "metadata": {},
   "outputs": [],
   "source": [
    "import matplotlib.pyplot as plt"
   ]
  },
  {
   "cell_type": "code",
   "execution_count": 123,
   "id": "23677866-54ee-4d8b-816f-e42539f6587f",
   "metadata": {},
   "outputs": [],
   "source": [
    "val_preds,vt=[],[]\n",
    "for i,t in valloader:\n",
    "    o= model(i.view(-1,1).float())\n",
    "    vt.append(t.data)\n",
    "    val_preds.append(o.data[0])"
   ]
  },
  {
   "cell_type": "code",
   "execution_count": 125,
   "id": "d5e91a56-4073-411b-8beb-0b955020ab9a",
   "metadata": {},
   "outputs": [
    {
     "data": {
      "text/plain": [
       "[<matplotlib.lines.Line2D at 0x7e1334bc9d90>]"
      ]
     },
     "execution_count": 125,
     "metadata": {},
     "output_type": "execute_result"
    },
    {
     "data": {
      "image/png": "[encoded data removed]",
      "text/plain": [
       "<Figure size 640x480 with 1 Axes>"
      ]
     },
     "metadata": {},
     "output_type": "display_data"
    }
   ],
   "source": [
    "plt.plot(vt,val_preds,'ro') # there definitely is a correlation between predictions and targets"
   ]
  },
  {
   "cell_type": "markdown",
   "id": "6b388b58-c554-4fa2-9d9f-cbc6a20862e8",
   "metadata": {},
   "source": [
    "The model just learnt a single value, gives it to everything.Change it to have 10 as hidden size."
   ]
  },
  {
   "cell_type": "code",
   "execution_count": 126,
   "id": "bb0621f1-1c17-4040-bdb7-b9e67e773eba",
   "metadata": {},
   "outputs": [
    {
     "data": {
      "text/plain": [
       "[<matplotlib.lines.Line2D at 0x7e1334baf8b0>]"
      ]
     },
     "execution_count": 126,
     "metadata": {},
     "output_type": "execute_result"
    },
    {
     "data": {
      "image/png": "[encoded data removed]",
      "text/plain": [
       "<Figure size 640x480 with 1 Axes>"
      ]
     },
     "metadata": {},
     "output_type": "display_data"
    }
   ],
   "source": [
    "plt.plot(train)\n",
    "plt.plot(val,'g')"
   ]
  },
  {
   "cell_type": "code",
   "execution_count": 114,
   "id": "5ec52a25-8dbd-4e03-a6e2-10253963a34c",
   "metadata": {},
   "outputs": [],
   "source": [
    "class TSeries2(nn.Module):\n",
    "    def __init__(self,):\n",
    "        super().__init__()\n",
    "        self.model= nn.LSTM(1,10)\n",
    "        self.linear= nn.Linear(10,1)\n",
    "    def forward(self,x):\n",
    "        return self.linear(self.model(x)[0])[-1]"
   ]
  },
  {
   "cell_type": "markdown",
   "id": "1feccde2-c057-41cd-9523-0283098ffd78",
   "metadata": {},
   "source": [
    "This is doing very well, increasing hidden size made it do so well.This looks more than enough as it even might overfit if trained more."
   ]
  }
 ],
 "metadata": {
  "kernelspec": {
   "display_name": "Python 3 (ipykernel)",
   "language": "python",
   "name": "python3"
  },
  "language_info": {
   "codemirror_mode": {
    "name": "ipython",
    "version": 3
   },
   "file_extension": ".py",
   "mimetype": "text/x-python",
   "name": "python",
   "nbconvert_exporter": "python",
   "pygments_lexer": "ipython3",
   "version": "3.9.20"
  }
 },
 "nbformat": 4,
 "nbformat_minor": 5
}
