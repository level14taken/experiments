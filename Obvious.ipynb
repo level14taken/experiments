{
 "cells": [
  {
   "cell_type": "markdown",
   "id": "02e20e9b-b8a6-4a1c-82d4-4dab23b92f29",
   "metadata": {},
   "source": [
    "This notebook involves playing with movies, users, and their ratings to generate something useful, it uses collaborative filtering to give suggestions"
   ]
  },
  {
   "cell_type": "code",
   "execution_count": 1,
   "id": "c8d38e2f-79f9-49c1-b303-a0c30bbb31fc",
   "metadata": {},
   "outputs": [],
   "source": [
    "import numpy as np\n",
    "import pandas as pd"
   ]
  },
  {
   "cell_type": "code",
   "execution_count": 2,
   "id": "e843bc3b-4ffe-459f-afee-06bf1fc9d521",
   "metadata": {},
   "outputs": [],
   "source": [
    "movies= pd.read_csv('archive/movies.csv')\n",
    "ratings= pd.read_csv('archive/ratings.csv')"
   ]
  },
  {
   "cell_type": "code",
   "execution_count": 3,
   "id": "981e9d13-b31d-460f-bae0-647846a23034",
   "metadata": {},
   "outputs": [
    {
     "data": {
      "text/html": [
       "<div>\n",
       "<style scoped>\n",
       "    .dataframe tbody tr th:only-of-type {\n",
       "        vertical-align: middle;\n",
       "    }\n",
       "\n",
       "    .dataframe tbody tr th {\n",
       "        vertical-align: top;\n",
       "    }\n",
       "\n",
       "    .dataframe thead th {\n",
       "        text-align: right;\n",
       "    }\n",
       "</style>\n",
       "<table border=\"1\" class=\"dataframe\">\n",
       "  <thead>\n",
       "    <tr style=\"text-align: right;\">\n",
       "      <th></th>\n",
       "      <th>movieId</th>\n",
       "      <th>title</th>\n",
       "      <th>genres</th>\n",
       "    </tr>\n",
       "  </thead>\n",
       "  <tbody>\n",
       "    <tr>\n",
       "      <th>0</th>\n",
       "      <td>1</td>\n",
       "      <td>Toy Story (1995)</td>\n",
       "      <td>Adventure|Animation|Children|Comedy|Fantasy</td>\n",
       "    </tr>\n",
       "    <tr>\n",
       "      <th>1</th>\n",
       "      <td>2</td>\n",
       "      <td>Jumanji (1995)</td>\n",
       "      <td>Adventure|Children|Fantasy</td>\n",
       "    </tr>\n",
       "    <tr>\n",
       "      <th>2</th>\n",
       "      <td>3</td>\n",
       "      <td>Grumpier Old Men (1995)</td>\n",
       "      <td>Comedy|Romance</td>\n",
       "    </tr>\n",
       "    <tr>\n",
       "      <th>3</th>\n",
       "      <td>4</td>\n",
       "      <td>Waiting to Exhale (1995)</td>\n",
       "      <td>Comedy|Drama|Romance</td>\n",
       "    </tr>\n",
       "    <tr>\n",
       "      <th>4</th>\n",
       "      <td>5</td>\n",
       "      <td>Father of the Bride Part II (1995)</td>\n",
       "      <td>Comedy</td>\n",
       "    </tr>\n",
       "  </tbody>\n",
       "</table>\n",
       "</div>"
      ],
      "text/plain": [
       "   movieId                               title  \\\n",
       "0        1                    Toy Story (1995)   \n",
       "1        2                      Jumanji (1995)   \n",
       "2        3             Grumpier Old Men (1995)   \n",
       "3        4            Waiting to Exhale (1995)   \n",
       "4        5  Father of the Bride Part II (1995)   \n",
       "\n",
       "                                        genres  \n",
       "0  Adventure|Animation|Children|Comedy|Fantasy  \n",
       "1                   Adventure|Children|Fantasy  \n",
       "2                               Comedy|Romance  \n",
       "3                         Comedy|Drama|Romance  \n",
       "4                                       Comedy  "
      ]
     },
     "execution_count": 3,
     "metadata": {},
     "output_type": "execute_result"
    }
   ],
   "source": [
    "movies.head()"
   ]
  },
  {
   "cell_type": "code",
   "execution_count": 4,
   "id": "d470fcc6-8a41-47ce-86f4-f00443b1682e",
   "metadata": {},
   "outputs": [
    {
     "data": {
      "text/html": [
       "<div>\n",
       "<style scoped>\n",
       "    .dataframe tbody tr th:only-of-type {\n",
       "        vertical-align: middle;\n",
       "    }\n",
       "\n",
       "    .dataframe tbody tr th {\n",
       "        vertical-align: top;\n",
       "    }\n",
       "\n",
       "    .dataframe thead th {\n",
       "        text-align: right;\n",
       "    }\n",
       "</style>\n",
       "<table border=\"1\" class=\"dataframe\">\n",
       "  <thead>\n",
       "    <tr style=\"text-align: right;\">\n",
       "      <th></th>\n",
       "      <th>userId</th>\n",
       "      <th>movieId</th>\n",
       "      <th>rating</th>\n",
       "      <th>timestamp</th>\n",
       "    </tr>\n",
       "  </thead>\n",
       "  <tbody>\n",
       "    <tr>\n",
       "      <th>0</th>\n",
       "      <td>1</td>\n",
       "      <td>1</td>\n",
       "      <td>4.0</td>\n",
       "      <td>964982703</td>\n",
       "    </tr>\n",
       "    <tr>\n",
       "      <th>1</th>\n",
       "      <td>1</td>\n",
       "      <td>3</td>\n",
       "      <td>4.0</td>\n",
       "      <td>964981247</td>\n",
       "    </tr>\n",
       "    <tr>\n",
       "      <th>2</th>\n",
       "      <td>1</td>\n",
       "      <td>6</td>\n",
       "      <td>4.0</td>\n",
       "      <td>964982224</td>\n",
       "    </tr>\n",
       "    <tr>\n",
       "      <th>3</th>\n",
       "      <td>1</td>\n",
       "      <td>47</td>\n",
       "      <td>5.0</td>\n",
       "      <td>964983815</td>\n",
       "    </tr>\n",
       "    <tr>\n",
       "      <th>4</th>\n",
       "      <td>1</td>\n",
       "      <td>50</td>\n",
       "      <td>5.0</td>\n",
       "      <td>964982931</td>\n",
       "    </tr>\n",
       "  </tbody>\n",
       "</table>\n",
       "</div>"
      ],
      "text/plain": [
       "   userId  movieId  rating  timestamp\n",
       "0       1        1     4.0  964982703\n",
       "1       1        3     4.0  964981247\n",
       "2       1        6     4.0  964982224\n",
       "3       1       47     5.0  964983815\n",
       "4       1       50     5.0  964982931"
      ]
     },
     "execution_count": 4,
     "metadata": {},
     "output_type": "execute_result"
    }
   ],
   "source": [
    "ratings.head()"
   ]
  },
  {
   "cell_type": "code",
   "execution_count": 5,
   "id": "ea55a10a-0f85-42d5-b4a0-7aa0cd295ba1",
   "metadata": {},
   "outputs": [
    {
     "data": {
      "text/plain": [
       "array([  1,   2,   3,   4,   5,   6,   7,   8,   9,  10,  11,  12,  13,\n",
       "        14,  15,  16,  17,  18,  19,  20,  21,  22,  23,  24,  25,  26,\n",
       "        27,  28,  29,  30,  31,  32,  33,  34,  35,  36,  37,  38,  39,\n",
       "        40,  41,  42,  43,  44,  45,  46,  47,  48,  49,  50,  51,  52,\n",
       "        53,  54,  55,  56,  57,  58,  59,  60,  61,  62,  63,  64,  65,\n",
       "        66,  67,  68,  69,  70,  71,  72,  73,  74,  75,  76,  77,  78,\n",
       "        79,  80,  81,  82,  83,  84,  85,  86,  87,  88,  89,  90,  91,\n",
       "        92,  93,  94,  95,  96,  97,  98,  99, 100, 101, 102, 103, 104,\n",
       "       105, 106, 107, 108, 109, 110, 111, 112, 113, 114, 115, 116, 117,\n",
       "       118, 119, 120, 121, 122, 123, 124, 125, 126, 127, 128, 129, 130,\n",
       "       131, 132, 133, 134, 135, 136, 137, 138, 139, 140, 141, 142, 143,\n",
       "       144, 145, 146, 147, 148, 149, 150, 151, 152, 153, 154, 155, 156,\n",
       "       157, 158, 159, 160, 161, 162, 163, 164, 165, 166, 167, 168, 169,\n",
       "       170, 171, 172, 173, 174, 175, 176, 177, 178, 179, 180, 181, 182,\n",
       "       183, 184, 185, 186, 187, 188, 189, 190, 191, 192, 193, 194, 195,\n",
       "       196, 197, 198, 199, 200, 201, 202, 203, 204, 205, 206, 207, 208,\n",
       "       209, 210, 211, 212, 213, 214, 215, 216, 217, 218, 219, 220, 221,\n",
       "       222, 223, 224, 225, 226, 227, 228, 229, 230, 231, 232, 233, 234,\n",
       "       235, 236, 237, 238, 239, 240, 241, 242, 243, 244, 245, 246, 247,\n",
       "       248, 249, 250, 251, 252, 253, 254, 255, 256, 257, 258, 259, 260,\n",
       "       261, 262, 263, 264, 265, 266, 267, 268, 269, 270, 271, 272, 273,\n",
       "       274, 275, 276, 277, 278, 279, 280, 281, 282, 283, 284, 285, 286,\n",
       "       287, 288, 289, 290, 291, 292, 293, 294, 295, 296, 297, 298, 299,\n",
       "       300, 301, 302, 303, 304, 305, 306, 307, 308, 309, 310, 311, 312,\n",
       "       313, 314, 315, 316, 317, 318, 319, 320, 321, 322, 323, 324, 325,\n",
       "       326, 327, 328, 329, 330, 331, 332, 333, 334, 335, 336, 337, 338,\n",
       "       339, 340, 341, 342, 343, 344, 345, 346, 347, 348, 349, 350, 351,\n",
       "       352, 353, 354, 355, 356, 357, 358, 359, 360, 361, 362, 363, 364,\n",
       "       365, 366, 367, 368, 369, 370, 371, 372, 373, 374, 375, 376, 377,\n",
       "       378, 379, 380, 381, 382, 383, 384, 385, 386, 387, 388, 389, 390,\n",
       "       391, 392, 393, 394, 395, 396, 397, 398, 399, 400, 401, 402, 403,\n",
       "       404, 405, 406, 407, 408, 409, 410, 411, 412, 413, 414, 415, 416,\n",
       "       417, 418, 419, 420, 421, 422, 423, 424, 425, 426, 427, 428, 429,\n",
       "       430, 431, 432, 433, 434, 435, 436, 437, 438, 439, 440, 441, 442,\n",
       "       443, 444, 445, 446, 447, 448, 449, 450, 451, 452, 453, 454, 455,\n",
       "       456, 457, 458, 459, 460, 461, 462, 463, 464, 465, 466, 467, 468,\n",
       "       469, 470, 471, 472, 473, 474, 475, 476, 477, 478, 479, 480, 481,\n",
       "       482, 483, 484, 485, 486, 487, 488, 489, 490, 491, 492, 493, 494,\n",
       "       495, 496, 497, 498, 499, 500, 501, 502, 503, 504, 505, 506, 507,\n",
       "       508, 509, 510, 511, 512, 513, 514, 515, 516, 517, 518, 519, 520,\n",
       "       521, 522, 523, 524, 525, 526, 527, 528, 529, 530, 531, 532, 533,\n",
       "       534, 535, 536, 537, 538, 539, 540, 541, 542, 543, 544, 545, 546,\n",
       "       547, 548, 549, 550, 551, 552, 553, 554, 555, 556, 557, 558, 559,\n",
       "       560, 561, 562, 563, 564, 565, 566, 567, 568, 569, 570, 571, 572,\n",
       "       573, 574, 575, 576, 577, 578, 579, 580, 581, 582, 583, 584, 585,\n",
       "       586, 587, 588, 589, 590, 591, 592, 593, 594, 595, 596, 597, 598,\n",
       "       599, 600, 601, 602, 603, 604, 605, 606, 607, 608, 609, 610])"
      ]
     },
     "execution_count": 5,
     "metadata": {},
     "output_type": "execute_result"
    }
   ],
   "source": [
    "ratings.userId.unique()# 610 unique userId"
   ]
  },
  {
   "cell_type": "code",
   "execution_count": 6,
   "id": "140ab0a8-341d-4d56-8fd0-75ef1925b88d",
   "metadata": {},
   "outputs": [
    {
     "data": {
      "text/plain": [
       "array([     1,      2,      3, ..., 193585, 193587, 193609])"
      ]
     },
     "execution_count": 6,
     "metadata": {},
     "output_type": "execute_result"
    }
   ],
   "source": [
    "movies.movieId.unique()"
   ]
  },
  {
   "cell_type": "code",
   "execution_count": 7,
   "id": "341e9b43-228d-4523-99c6-0c127cc43c88",
   "metadata": {},
   "outputs": [
    {
     "data": {
      "text/plain": [
       "((9742, 3), (100836, 4))"
      ]
     },
     "execution_count": 7,
     "metadata": {},
     "output_type": "execute_result"
    }
   ],
   "source": [
    "movies.shape,ratings.shape"
   ]
  },
  {
   "cell_type": "code",
   "execution_count": 8,
   "id": "042f184b-3670-4aa6-9bd3-ea97c1e52385",
   "metadata": {},
   "outputs": [],
   "source": [
    "global_avg= ratings.rating.mean()"
   ]
  },
  {
   "cell_type": "code",
   "execution_count": 9,
   "id": "067c7f34-0c8d-4685-9ebb-7ab7fb7e02a0",
   "metadata": {},
   "outputs": [],
   "source": [
    "ratings.rating= ratings.rating - global_avg"
   ]
  },
  {
   "cell_type": "code",
   "execution_count": 10,
   "id": "7ee97b65-8ee9-453b-b7a1-20ddafeae346",
   "metadata": {},
   "outputs": [],
   "source": [
    "user_avg= ratings.groupby('userId')['rating'].agg('mean')"
   ]
  },
  {
   "cell_type": "code",
   "execution_count": 11,
   "id": "01fd6453-f47d-41b1-ad57-67488aff959b",
   "metadata": {},
   "outputs": [],
   "source": [
    "movie_avg= ratings.groupby('movieId')['rating'].agg('mean')"
   ]
  },
  {
   "cell_type": "markdown",
   "id": "14abc33e-56e9-46ad-bb58-16239958aa45",
   "metadata": {},
   "source": [
    "This idea is from netflix prize competition, it involves matrix factorization to get embeddings of both movies and users, using them to create embeddings from known data then using those embeddings we predict ratings on unseen movies and find out which is rated highest according to their embedding and recommend them. We take averages of users/movies/globally to see through the noise and model the exact value, and this works better than plain idea told above, this makes optimization better suit our needs."
   ]
  },
  {
   "cell_type": "code",
   "execution_count": 12,
   "id": "d838bc4f-9429-490d-a5e3-ce1a04ac8595",
   "metadata": {},
   "outputs": [
    {
     "data": {
      "text/plain": [
       "Index([  1,   2,   3,   4,   5,   6,   7,   8,   9,  10,\n",
       "       ...\n",
       "       601, 602, 603, 604, 605, 606, 607, 608, 609, 610],\n",
       "      dtype='int64', name='userId', length=610)"
      ]
     },
     "execution_count": 12,
     "metadata": {},
     "output_type": "execute_result"
    }
   ],
   "source": [
    "user_avg.index"
   ]
  },
  {
   "cell_type": "code",
   "execution_count": 13,
   "id": "104594a8-215d-4b88-ace4-b195bc940cbc",
   "metadata": {},
   "outputs": [],
   "source": [
    "#now lets create movie and user matrices\n",
    "hidden_dim= 2\n",
    "Um= np.random.randn(*(len(user_avg),2))\n",
    "Mm= np.random.randn(*(len(movie_avg),2))"
   ]
  },
  {
   "cell_type": "code",
   "execution_count": 14,
   "id": "81384dc3-cd7c-435c-82dd-f92c68063e60",
   "metadata": {},
   "outputs": [],
   "source": [
    "# make the embeddings trainable and move them such that they match the ratings that the data tells us\n",
    "ratings.rating= np.array(list(map(lambda x:x[1]['rating']- user_avg.loc[x[1]['userId']]-movie_avg.loc[x[1]['movieId']],ratings.iterrows())))"
   ]
  },
  {
   "cell_type": "code",
   "execution_count": 15,
   "id": "8edf7654-ff1f-4e7c-a5c3-7ee263929413",
   "metadata": {},
   "outputs": [
    {
     "data": {
      "text/plain": [
       "0        -0.785753\n",
       "1        -0.124438\n",
       "2        -0.810901\n",
       "3         0.159808\n",
       "4        -0.102567\n",
       "            ...   \n",
       "100831    0.479668\n",
       "100832    0.670144\n",
       "100833    1.179668\n",
       "100834    0.533001\n",
       "100835    0.479668\n",
       "Name: rating, Length: 100836, dtype: float64"
      ]
     },
     "execution_count": 15,
     "metadata": {},
     "output_type": "execute_result"
    }
   ],
   "source": [
    "ratings.rating"
   ]
  },
  {
   "cell_type": "code",
   "execution_count": 16,
   "id": "6ac566d5-57ac-4575-b979-c7fc08d0ddb2",
   "metadata": {},
   "outputs": [],
   "source": [
    "import torch"
   ]
  },
  {
   "cell_type": "code",
   "execution_count": 17,
   "id": "b47a8265-db02-466e-b817-a2e87086f2b1",
   "metadata": {},
   "outputs": [],
   "source": [
    "Um= torch.tensor(Um,requires_grad=True)\n",
    "Mm= torch.tensor(Mm,requires_grad=True)"
   ]
  },
  {
   "cell_type": "code",
   "execution_count": 18,
   "id": "0109cefa-ff73-4253-8865-af8dc3cc8b5d",
   "metadata": {},
   "outputs": [
    {
     "data": {
      "text/plain": [
       "np.float64(-2.057583391268488e-16)"
      ]
     },
     "execution_count": 18,
     "metadata": {},
     "output_type": "execute_result"
    }
   ],
   "source": [
    "ratings.rating.mean()# mean is 0"
   ]
  },
  {
   "cell_type": "code",
   "execution_count": 19,
   "id": "5a0fc364-93d8-40ae-8bd6-3914327e1667",
   "metadata": {},
   "outputs": [],
   "source": [
    "# what we have done can be done with just embeddings in pytorch, it is just the same, a lookup with vectorrs which can be finetuned for the task.\n",
    "#for i,u in enumerate(Um):\n",
    "    #for j,m in enumerate(Mm):\n",
    "        #user_avg.index[i] \n",
    "        #movie_avg.index[j] "
   ]
  },
  {
   "cell_type": "code",
   "execution_count": 20,
   "id": "09e5a390-851b-4e36-b2f2-cfe97f3fbdc9",
   "metadata": {},
   "outputs": [],
   "source": [
    "# lets create a dataset with the index as user_id,movie_id and then values will be just the ratings\n",
    "dataset= ratings[['userId','movieId','rating']]"
   ]
  },
  {
   "cell_type": "code",
   "execution_count": 21,
   "id": "71f0e9e9-d9b3-4f6c-96c2-aa12defa4700",
   "metadata": {},
   "outputs": [],
   "source": [
    "# using embeddings will be better then the data access will be taken care by pytorch itself.\n",
    "import torch.nn as nn\n",
    "import torch.functional as F"
   ]
  },
  {
   "cell_type": "code",
   "execution_count": 22,
   "id": "54beb251-8fc3-4a4a-a497-16877b47111a",
   "metadata": {},
   "outputs": [],
   "source": [
    "Um,Mm=None,None"
   ]
  },
  {
   "cell_type": "code",
   "execution_count": 23,
   "id": "0da51554-af50-47f5-9a94-05bec253fc70",
   "metadata": {},
   "outputs": [],
   "source": [
    "class RecSys(nn.Module):\n",
    "    def __init__(self,emb_dim=2):\n",
    "        super().__init__()\n",
    "        self.users= nn.Embedding(max(ratings.userId)+1,emb_dim)\n",
    "        self.movies= nn.Embedding(max(ratings.movieId)+1,emb_dim)\n",
    "    def forward(self,uid,mid):\n",
    "        #print(uid,mid)\n",
    "        return (self.users(uid)*self.movies(mid)).sum(dim=-1)"
   ]
  },
  {
   "cell_type": "code",
   "execution_count": 24,
   "id": "c6a4463d-3f5e-4e24-b127-4d8557085fe3",
   "metadata": {},
   "outputs": [],
   "source": [
    "loss= nn.MSELoss()"
   ]
  },
  {
   "cell_type": "code",
   "execution_count": 25,
   "id": "8a1de87d-b074-4abd-baa2-d9c18c057a50",
   "metadata": {},
   "outputs": [],
   "source": [
    "bs= 300"
   ]
  },
  {
   "cell_type": "code",
   "execution_count": 26,
   "id": "d47a685c-1fcf-4714-b087-27a5b02324a8",
   "metadata": {},
   "outputs": [],
   "source": [
    "from torch.utils.data import DataLoader"
   ]
  },
  {
   "cell_type": "code",
   "execution_count": 27,
   "id": "feea7737-65d1-4ef1-9d84-7637c7ee33e8",
   "metadata": {},
   "outputs": [],
   "source": [
    "dataloader= DataLoader(dataset.values,batch_size=bs,)"
   ]
  },
  {
   "cell_type": "code",
   "execution_count": 28,
   "id": "8366142e-c996-47c5-bed3-a5949a3c0d0f",
   "metadata": {},
   "outputs": [],
   "source": [
    "model= RecSys()\n",
    "optimizer= torch.optim.Adam(model.parameters(),lr=3e-4)"
   ]
  },
  {
   "cell_type": "code",
   "execution_count": 30,
   "id": "dd278655-795e-4133-b243-334e1afa67e4",
   "metadata": {},
   "outputs": [
    {
     "name": "stdout",
     "output_type": "stream",
     "text": [
      "Epoch: 0 Loss: 4.242\n",
      "Epoch: 1 Loss: 4.156\n",
      "Epoch: 2 Loss: 4.072\n",
      "Epoch: 3 Loss: 3.990\n",
      "Epoch: 4 Loss: 3.910\n",
      "Epoch: 5 Loss: 3.831\n",
      "Epoch: 6 Loss: 3.753\n",
      "Epoch: 7 Loss: 3.677\n",
      "Epoch: 8 Loss: 3.602\n",
      "Epoch: 9 Loss: 3.528\n",
      "Epoch: 10 Loss: 3.456\n",
      "Epoch: 11 Loss: 3.384\n",
      "Epoch: 12 Loss: 3.314\n",
      "Epoch: 13 Loss: 3.245\n",
      "Epoch: 14 Loss: 3.178\n",
      "Epoch: 15 Loss: 3.111\n",
      "Epoch: 16 Loss: 3.045\n",
      "Epoch: 17 Loss: 2.981\n",
      "Epoch: 18 Loss: 2.918\n",
      "Epoch: 19 Loss: 2.855\n",
      "Epoch: 20 Loss: 2.794\n",
      "Epoch: 21 Loss: 2.734\n",
      "Epoch: 22 Loss: 2.675\n",
      "Epoch: 23 Loss: 2.617\n",
      "Epoch: 24 Loss: 2.560\n",
      "Epoch: 25 Loss: 2.504\n",
      "Epoch: 26 Loss: 2.448\n",
      "Epoch: 27 Loss: 2.394\n",
      "Epoch: 28 Loss: 2.341\n",
      "Epoch: 29 Loss: 2.289\n",
      "Epoch: 30 Loss: 2.238\n",
      "Epoch: 31 Loss: 2.187\n",
      "Epoch: 32 Loss: 2.138\n",
      "Epoch: 33 Loss: 2.089\n",
      "Epoch: 34 Loss: 2.042\n",
      "Epoch: 35 Loss: 1.995\n",
      "Epoch: 36 Loss: 1.949\n",
      "Epoch: 37 Loss: 1.904\n",
      "Epoch: 38 Loss: 1.860\n",
      "Epoch: 39 Loss: 1.816\n",
      "Epoch: 40 Loss: 1.774\n",
      "Epoch: 41 Loss: 1.732\n",
      "Epoch: 42 Loss: 1.691\n",
      "Epoch: 43 Loss: 1.651\n",
      "Epoch: 44 Loss: 1.612\n",
      "Epoch: 45 Loss: 1.573\n",
      "Epoch: 46 Loss: 1.535\n",
      "Epoch: 47 Loss: 1.498\n",
      "Epoch: 48 Loss: 1.462\n",
      "Epoch: 49 Loss: 1.426\n",
      "Epoch: 50 Loss: 1.392\n",
      "Epoch: 51 Loss: 1.357\n",
      "Epoch: 52 Loss: 1.324\n",
      "Epoch: 53 Loss: 1.291\n",
      "Epoch: 54 Loss: 1.259\n",
      "Epoch: 55 Loss: 1.227\n",
      "Epoch: 56 Loss: 1.197\n",
      "Epoch: 57 Loss: 1.167\n",
      "Epoch: 58 Loss: 1.137\n",
      "Epoch: 59 Loss: 1.108\n",
      "Epoch: 60 Loss: 1.080\n",
      "Epoch: 61 Loss: 1.052\n",
      "Epoch: 62 Loss: 1.025\n",
      "Epoch: 63 Loss: 0.999\n",
      "Epoch: 64 Loss: 0.973\n",
      "Epoch: 65 Loss: 0.948\n",
      "Epoch: 66 Loss: 0.924\n",
      "Epoch: 67 Loss: 0.899\n",
      "Epoch: 68 Loss: 0.876\n",
      "Epoch: 69 Loss: 0.853\n",
      "Epoch: 70 Loss: 0.831\n",
      "Epoch: 71 Loss: 0.809\n",
      "Epoch: 72 Loss: 0.788\n",
      "Epoch: 73 Loss: 0.767\n",
      "Epoch: 74 Loss: 0.747\n",
      "Epoch: 75 Loss: 0.727\n",
      "Epoch: 76 Loss: 0.708\n",
      "Epoch: 77 Loss: 0.689\n",
      "Epoch: 78 Loss: 0.671\n",
      "Epoch: 79 Loss: 0.653\n",
      "Epoch: 80 Loss: 0.635\n",
      "Epoch: 81 Loss: 0.619\n",
      "Epoch: 82 Loss: 0.602\n",
      "Epoch: 83 Loss: 0.586\n",
      "Epoch: 84 Loss: 0.571\n",
      "Epoch: 85 Loss: 0.555\n",
      "Epoch: 86 Loss: 0.541\n",
      "Epoch: 87 Loss: 0.526\n",
      "Epoch: 88 Loss: 0.513\n",
      "Epoch: 89 Loss: 0.499\n",
      "Epoch: 90 Loss: 0.486\n",
      "Epoch: 91 Loss: 0.473\n",
      "Epoch: 92 Loss: 0.461\n",
      "Epoch: 93 Loss: 0.449\n",
      "Epoch: 94 Loss: 0.438\n",
      "Epoch: 95 Loss: 0.426\n",
      "Epoch: 96 Loss: 0.416\n",
      "Epoch: 97 Loss: 0.405\n",
      "Epoch: 98 Loss: 0.395\n",
      "Epoch: 99 Loss: 0.385\n"
     ]
    }
   ],
   "source": [
    "for epoch in range(100):\n",
    "    for i in dataloader:\n",
    "        x,y= i[:,:-1],i[:,-1]\n",
    "        optimizer.zero_grad()\n",
    "        outputs= model(x[:,0].int(),x[:,1].int())\n",
    "        L= loss(outputs,y.float())\n",
    "        L.backward()\n",
    "        optimizer.step()\n",
    "    print(f'Epoch: {epoch} Loss: {L.data:.3f}')"
   ]
  },
  {
   "cell_type": "markdown",
   "id": "24c7ae86-1c7e-4744-9b54-fe0fffca425a",
   "metadata": {},
   "source": [
    "Since this is training, we have embeddings which we can use to do anything, for example we can plot them and we will see similar movies very close to each other, or find the user,s best recommendation."
   ]
  }
 ],
 "metadata": {
  "kernelspec": {
   "display_name": "Python 3 (ipykernel)",
   "language": "python",
   "name": "python3"
  },
  "language_info": {
   "codemirror_mode": {
    "name": "ipython",
    "version": 3
   },
   "file_extension": ".py",
   "mimetype": "text/x-python",
   "name": "python",
   "nbconvert_exporter": "python",
   "pygments_lexer": "ipython3",
   "version": "3.9.20"
  }
 },
 "nbformat": 4,
 "nbformat_minor": 5
}
